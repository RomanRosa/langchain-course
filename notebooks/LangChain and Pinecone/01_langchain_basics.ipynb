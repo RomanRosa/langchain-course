{
 "cells": [
  {
   "cell_type": "markdown",
   "metadata": {},
   "source": [
    "## **LangChain Basics**"
   ]
  },
  {
   "cell_type": "code",
   "execution_count": 1,
   "metadata": {},
   "outputs": [
    {
     "name": "stdout",
     "output_type": "stream",
     "text": [
      "Name: langchain\n",
      "Version: 0.0.352\n",
      "Summary: Building applications with LLMs through composability\n",
      "Home-page: https://github.com/langchain-ai/langchain\n",
      "Author: \n",
      "Author-email: \n",
      "License: MIT\n",
      "Location: c:\\anaconda3\\envs\\langchain\\lib\\site-packages\n",
      "Requires: aiohttp, async-timeout, dataclasses-json, jsonpatch, langchain-community, langchain-core, langsmith, numpy, pydantic, PyYAML, requests, SQLAlchemy, tenacity\n",
      "Required-by: \n"
     ]
    }
   ],
   "source": [
    "!pip show langchain"
   ]
  },
  {
   "cell_type": "markdown",
   "metadata": {},
   "source": [
    "### **Python-dotenv**"
   ]
  },
  {
   "cell_type": "code",
   "execution_count": 2,
   "metadata": {},
   "outputs": [
    {
     "data": {
      "text/plain": [
       "True"
      ]
     },
     "execution_count": 2,
     "metadata": {},
     "output_type": "execute_result"
    }
   ],
   "source": [
    "import os\n",
    "from dotenv import load_dotenv, find_dotenv\n",
    "load_dotenv(find_dotenv(), override=True)"
   ]
  },
  {
   "cell_type": "code",
   "execution_count": 4,
   "metadata": {},
   "outputs": [
    {
     "data": {
      "text/plain": [
       "'5dc0e26f-d522-4ac3-b062-49530b2f2898'"
      ]
     },
     "execution_count": 4,
     "metadata": {},
     "output_type": "execute_result"
    }
   ],
   "source": [
    "os.environ.get('PINECONE_API_KEY')"
   ]
  },
  {
   "cell_type": "markdown",
   "metadata": {},
   "source": [
    "## **LLM Models (Wrappers): GPT-3**"
   ]
  },
  {
   "cell_type": "code",
   "execution_count": 5,
   "metadata": {},
   "outputs": [
    {
     "name": "stdout",
     "output_type": "stream",
     "text": [
      "\u001b[1mOpenAI\u001b[0m\n",
      "Params: {'model_name': 'text-davinci-003', 'temperature': 0.7, 'top_p': 1, 'frequency_penalty': 0, 'presence_penalty': 0, 'n': 1, 'logit_bias': {}, 'max_tokens': 512}\n"
     ]
    }
   ],
   "source": [
    "from langchain.llms import OpenAI\n",
    "llm= OpenAI(model_name='text-davinci-003', temperature=0.7, max_tokens=512)\n",
    "print(llm)"
   ]
  },
  {
   "cell_type": "code",
   "execution_count": 6,
   "metadata": {},
   "outputs": [
    {
     "name": "stdout",
     "output_type": "stream",
     "text": [
      "\n",
      "\n",
      "Quantum mechanics is the branch of physics that describes the behavior of matter and energy at the microscopic scale, where particles behave as waves and follow the rules of probability.\n"
     ]
    }
   ],
   "source": [
    "output= llm('Explain Quantum Mechanics in One Sentence')\n",
    "print(output)"
   ]
  },
  {
   "cell_type": "code",
   "execution_count": 7,
   "metadata": {},
   "outputs": [
    {
     "name": "stdout",
     "output_type": "stream",
     "text": [
      "8\n"
     ]
    }
   ],
   "source": [
    "print(llm.get_num_tokens('Explain Quantum Mechanics in One Sentence'))"
   ]
  },
  {
   "cell_type": "code",
   "execution_count": 8,
   "metadata": {},
   "outputs": [],
   "source": [
    "output= llm.generate(['...is the capital of France.',\n",
    "                      'What is the formula for the area of a circle?'])"
   ]
  },
  {
   "cell_type": "code",
   "execution_count": 9,
   "metadata": {},
   "outputs": [
    {
     "name": "stdout",
     "output_type": "stream",
     "text": [
      "[[Generation(text='\\n\\nParis', generation_info={'finish_reason': 'stop', 'logprobs': None})], [Generation(text='\\n\\nA = πr^2, where r is the radius of the circle.', generation_info={'finish_reason': 'stop', 'logprobs': None})]]\n"
     ]
    }
   ],
   "source": [
    "print(output.generations)"
   ]
  },
  {
   "cell_type": "code",
   "execution_count": 10,
   "metadata": {},
   "outputs": [
    {
     "name": "stdout",
     "output_type": "stream",
     "text": [
      "\n",
      "\n",
      "A = πr^2, where r is the radius of the circle.\n"
     ]
    }
   ],
   "source": [
    "print(output.generations[1][0].text)"
   ]
  },
  {
   "cell_type": "code",
   "execution_count": 11,
   "metadata": {},
   "outputs": [
    {
     "name": "stdout",
     "output_type": "stream",
     "text": [
      "\n",
      "\n",
      "Paris\n"
     ]
    }
   ],
   "source": [
    "print(output.generations[0][0].text)"
   ]
  },
  {
   "cell_type": "code",
   "execution_count": 12,
   "metadata": {},
   "outputs": [
    {
     "data": {
      "text/plain": [
       "2"
      ]
     },
     "execution_count": 12,
     "metadata": {},
     "output_type": "execute_result"
    }
   ],
   "source": [
    "len(output.generations)"
   ]
  },
  {
   "cell_type": "code",
   "execution_count": 13,
   "metadata": {},
   "outputs": [],
   "source": [
    "output= llm.generate(['Write an original tagline for a burger restaurant']*3)"
   ]
  },
  {
   "cell_type": "code",
   "execution_count": 14,
   "metadata": {},
   "outputs": [
    {
     "name": "stdout",
     "output_type": "stream",
     "text": [
      "generations=[[Generation(text='\\n\\n\"Sink your teeth into the tastiest burgers around!\"', generation_info={'finish_reason': 'stop', 'logprobs': None})], [Generation(text='\\n\\n\"Sink Your Teeth into Our Delicious Burgers!\"', generation_info={'finish_reason': 'stop', 'logprobs': None})], [Generation(text='\\n\\n\"The juiciest burgers around - come get your bite of happiness!\"', generation_info={'finish_reason': 'stop', 'logprobs': None})]] llm_output={'token_usage': {'prompt_tokens': 27, 'total_tokens': 72, 'completion_tokens': 45}, 'model_name': 'text-davinci-003'} run=[RunInfo(run_id=UUID('297bacd5-7f0a-42d5-821e-f75632cdee65')), RunInfo(run_id=UUID('d5f9d1e2-5886-4530-bc36-86608edb0ff2')), RunInfo(run_id=UUID('28e398bf-1554-4a9b-8e15-6b273b77bde9'))]\n"
     ]
    }
   ],
   "source": [
    "print(output)"
   ]
  },
  {
   "cell_type": "code",
   "execution_count": 15,
   "metadata": {},
   "outputs": [
    {
     "name": "stdout",
     "output_type": "stream",
     "text": [
      "\n",
      "\n",
      "\"Sink your teeth into the tastiest burgers around!\"\n",
      "\n",
      "\"Sink Your Teeth into Our Delicious Burgers!\"\n",
      "\n",
      "\"The juiciest burgers around - come get your bite of happiness!\""
     ]
    }
   ],
   "source": [
    "for o in output.generations:\n",
    "    print(o[0].text, end='')"
   ]
  },
  {
   "cell_type": "markdown",
   "metadata": {},
   "source": [
    "## **ChatModels: GPT-3.5-Turbo and GPT-4**"
   ]
  },
  {
   "cell_type": "code",
   "execution_count": 16,
   "metadata": {},
   "outputs": [],
   "source": [
    "from langchain.schema import (\n",
    "    AIMessage,\n",
    "    HumanMessage,\n",
    "    SystemMessage\n",
    ")\n",
    "from langchain.chat_models import ChatOpenAI"
   ]
  },
  {
   "cell_type": "code",
   "execution_count": 17,
   "metadata": {},
   "outputs": [],
   "source": [
    "chat= ChatOpenAI(model_name='gpt-3.5-turbo', temperature=0.5, max_tokens=1024)\n",
    "messages= [\n",
    "    SystemMessage(content='You are a physicist and respond only in German.'),\n",
    "    HumanMessage(content='Explain Quantum Mechanics in One Sentence')\n",
    "]\n",
    "output=chat(messages)"
   ]
  },
  {
   "cell_type": "code",
   "execution_count": 18,
   "metadata": {},
   "outputs": [
    {
     "name": "stdout",
     "output_type": "stream",
     "text": [
      "content='Quantenmechanik ist eine Theorie, die das Verhalten von Teilchen auf atomarer und subatomarer Ebene beschreibt und auf Wahrscheinlichkeiten basiert.'\n"
     ]
    }
   ],
   "source": [
    "print(output)"
   ]
  },
  {
   "cell_type": "code",
   "execution_count": 19,
   "metadata": {},
   "outputs": [
    {
     "name": "stdout",
     "output_type": "stream",
     "text": [
      "Quantenmechanik ist eine Theorie, die das Verhalten von Teilchen auf atomarer und subatomarer Ebene beschreibt und auf Wahrscheinlichkeiten basiert.\n"
     ]
    }
   ],
   "source": [
    "print(output.content)"
   ]
  },
  {
   "cell_type": "markdown",
   "metadata": {},
   "source": [
    "## **Prompt Templates**"
   ]
  },
  {
   "cell_type": "code",
   "execution_count": 20,
   "metadata": {},
   "outputs": [],
   "source": [
    "from langchain import PromptTemplate"
   ]
  },
  {
   "cell_type": "code",
   "execution_count": 21,
   "metadata": {},
   "outputs": [
    {
     "name": "stdout",
     "output_type": "stream",
     "text": [
      "input_variables=['language', 'virus'] template='You are an experienced viologist.\\nWrite a few sentences about the following {virus} in {language}'\n"
     ]
    }
   ],
   "source": [
    "template='''You are an experienced viologist.\n",
    "Write a few sentences about the following {virus} in {language}'''\n",
    "\n",
    "prompt=PromptTemplate(\n",
    "    input_variables=['virus','language'],\n",
    "    template=template\n",
    ")\n",
    "print(prompt)"
   ]
  },
  {
   "cell_type": "code",
   "execution_count": 22,
   "metadata": {},
   "outputs": [
    {
     "name": "stdout",
     "output_type": "stream",
     "text": [
      "\n",
      "\n",
      "HIV ist eine gefährliche und häufig tödliche Infektionskrankheit, die durch das humane Immunschwächevirus hervorgerufen wird. Es greift das Immunsystem des Menschen an und kann zu einer Immunschwäche führen, die als AIDS bekannt ist. HIV ist eine der am weitesten verbreiteten Infektionskrankheiten der Welt und verursacht noch immer viele Todesfälle. Daher ist es wichtig, dass alle über die Prävention und Behandlung dieser Krankheit Bescheid wissen.\n"
     ]
    }
   ],
   "source": [
    "from langchain.llms import OpenAI\n",
    "llm=OpenAI(model_name='text-davinci-003', temperature=0.7)\n",
    "output=llm(prompt.format(virus='HIV', language='German'))\n",
    "print(output)"
   ]
  },
  {
   "cell_type": "markdown",
   "metadata": {},
   "source": [
    "## **Simple Chains**"
   ]
  },
  {
   "cell_type": "code",
   "execution_count": 41,
   "metadata": {},
   "outputs": [],
   "source": [
    "from langchain.chat_models import ChatOpenAI\n",
    "from langchain import PromptTemplate\n",
    "from langchain.chains import LLMChain\n",
    "\n",
    "# Initialize the language model with the specified model and temperature\n",
    "llm = ChatOpenAI(model_name='gpt-3.5-turbo', temperature=0.5)\n",
    "\n",
    "# Define a prompt template with variables for virus and language\n",
    "template = '''You are an experienced virologist.\n",
    "Write a few sentences about the following virus {virus} in language {language}.'''\n",
    "\n",
    "# Create a prompt template object with specified input variables and template\n",
    "prompt = PromptTemplate(\n",
    "    input_variables=['virus', 'language'],\n",
    "    template=template\n",
    ")\n",
    "\n",
    "# Create a chain with the language model and prompt template\n",
    "chain = LLMChain(llm=llm, prompt=prompt)\n",
    "\n",
    "# Execute the chain with specified input parameters and obtain the output\n",
    "output = chain.run({'virus': 'HSV', 'language': 'French'})"
   ]
  },
  {
   "cell_type": "code",
   "execution_count": 42,
   "metadata": {},
   "outputs": [
    {
     "name": "stdout",
     "output_type": "stream",
     "text": [
      "Le virus de l'herpès simplex (HSV) est un virus à ADN enveloppé qui infecte les humains. Il existe deux types de HSV : le HSV-1, qui est principalement associé aux infections buccales et labiales, et le HSV-2, qui est principalement associé aux infections génitales. Ces virus sont très contagieux et se propagent principalement par contact direct avec les lésions cutanées ou les sécrétions infectées. Les infections à HSV peuvent provoquer des symptômes tels que des cloques douloureuses, des ulcères et des démangeaisons, et peuvent se réactiver périodiquement, provoquant des poussées récurrentes.\n"
     ]
    }
   ],
   "source": [
    "# Print the output\n",
    "print(output)"
   ]
  },
  {
   "cell_type": "markdown",
   "metadata": {},
   "source": [
    "## **Sequential Chains**"
   ]
  },
  {
   "cell_type": "code",
   "execution_count": 43,
   "metadata": {},
   "outputs": [],
   "source": [
    "from langchain.chat_models import ChatOpenAI\n",
    "from langchain import PromptTemplate\n",
    "from langchain.chains import LLMChain, SimpleSequentialChain\n",
    "\n",
    "from langchain.llms import OpenAI"
   ]
  },
  {
   "cell_type": "code",
   "execution_count": 44,
   "metadata": {},
   "outputs": [],
   "source": [
    "llm1=OpenAI(model_name='text-davinci-003', temperature=0.7, max_tokens=1024)\n",
    "prompt1=PromptTemplate(\n",
    "    input_variables=['concept'],\n",
    "    template='''You are an experienced scientist and python programmer.\n",
    "    Write a function that implements the concept of {concept}.'''\n",
    ")\n",
    "chain1=LLMChain(llm=llm1, prompt=prompt1)"
   ]
  },
  {
   "cell_type": "code",
   "execution_count": 45,
   "metadata": {},
   "outputs": [],
   "source": [
    "llm2= ChatOpenAI(model_name='gpt-3.5-turbo', temperature=1.2)\n",
    "prompt2=PromptTemplate(\n",
    "    input_variables=['function'],\n",
    "    template='Given the python {function}, describe it as detailed as possible.'\n",
    ")\n",
    "chain2=LLMChain(llm=llm2, prompt=prompt2)"
   ]
  },
  {
   "cell_type": "code",
   "execution_count": 46,
   "metadata": {},
   "outputs": [
    {
     "name": "stdout",
     "output_type": "stream",
     "text": [
      "\n",
      "\n",
      "\u001b[1m> Entering new SimpleSequentialChain chain...\u001b[0m\n",
      "\u001b[36;1m\u001b[1;3m\n",
      "\n",
      "def linear_regression(x, y):\n",
      "    \"\"\"\n",
      "    Calculates the linear regression parameters (slope and intercept)\n",
      "    given two sets of data.\n",
      "    \n",
      "    Parameters\n",
      "    ----------\n",
      "    x : array-like\n",
      "        x values of the data points\n",
      "    y : array-like\n",
      "        y values of the data points\n",
      "    \n",
      "    Returns\n",
      "    -------\n",
      "    slope : float\n",
      "        The slope of the linear regression line\n",
      "    intercept : float\n",
      "        The intercept of the linear regression line\n",
      "    \"\"\"\n",
      "    \n",
      "    # Calculate the mean of the x and y values\n",
      "    x_mean = np.mean(x)\n",
      "    y_mean = np.mean(y)\n",
      "    \n",
      "    # Calculate the numerator and denominator of the slope\n",
      "    numerator = 0\n",
      "    denominator = 0\n",
      "    for i in range(len(x)):\n",
      "        numerator += (x[i] - x_mean)*(y[i] - y_mean)\n",
      "        denominator += (x[i] - x_mean)**2\n",
      "    \n",
      "    # Calculate the slope and intercept\n",
      "    slope = numerator / denominator\n",
      "    intercept = y_mean - (slope * x_mean)\n",
      "    \n",
      "    return slope, intercept\u001b[0m\n",
      "\u001b[33;1m\u001b[1;3mThe given code defines a function called `linear_regression` that calculates the linear regression parameters (slope and intercept) given two sets of data.\n",
      "\n",
      "The function takes two arguments, `x` and `y`, which represent the x and y values of the data points. These arguments should be array-like objects.\n",
      "\n",
      "The function then calculates the mean of the x and y values using the `np.mean()` function from the numpy library. This will give us the average x value (`x_mean`) and the average y value (`y_mean`).\n",
      "\n",
      "Next, the function initializes two variables, `numerator` and `denominator`, to zero. These variables will be used to calculate the slope of the linear regression line.\n",
      "\n",
      "Inside a for loop that iterates over the indices of the x values, the function updates the `numerator` variable by adding the product of the difference between each x value and the average x value (`x[i] - x_mean`) and the difference between the corresponding y value and the average y value (`y[i] - y_mean`). Similarly, the `denominator` variable is updated by adding the square of the difference between each x value and the average x value (`(x[i] - x_mean)**2`).\n",
      "\n",
      "Finally, the slope is calculated by dividing the numerator by the denominator (`slope = numerator / denominator`). The intercept is then obtained by subtracting the product of the slope and the average x value from the average y value (`intercept = y_mean - (slope * x_mean)`).\n",
      "\n",
      "The function returns the calculated slope, intercept, and their descriptions as a tuple: `slope, intercept`.\u001b[0m\n",
      "\n",
      "\u001b[1m> Finished chain.\u001b[0m\n"
     ]
    }
   ],
   "source": [
    "overall_chain=SimpleSequentialChain(chains=[chain1,chain2], verbose=True)\n",
    "output=overall_chain.run('linear regression')"
   ]
  },
  {
   "cell_type": "code",
   "execution_count": 47,
   "metadata": {},
   "outputs": [
    {
     "name": "stdout",
     "output_type": "stream",
     "text": [
      "\n",
      "\n",
      "\u001b[1m> Entering new SimpleSequentialChain chain...\u001b[0m\n",
      "\u001b[36;1m\u001b[1;3m\n",
      "\n",
      "def softmax(x):\n",
      "    \"\"\"Compute softmax values for each sets of scores in x.\"\"\"\n",
      "    return np.exp(x) / np.sum(np.exp(x), axis=0)\u001b[0m\n",
      "\u001b[33;1m\u001b[1;3mThe provided Python function, softmax(x), calculates the softmax values for a given input vector x. \n",
      "\n",
      "1. The function accepts an input vector x as its argument.\n",
      "2. It computes the exponential of each element in the input vector using the numpy.exp() function.\n",
      "3. It then calculates the sum of the exponential values of the input vector along the 0th axis (by columns) using the numpy.sum() function with the axis parameter set to 0.\n",
      "4. Next, it divides each exponential value of the input vector by the computed sum.\n",
      "5. Finally, it returns the resulting vector of softmax values as the output.\n",
      "\n",
      "To summarize, the softmax(x) function applies the softmax activation function to the input vector x. The softmax function converts the input vector into a probability distribution, with each element representing the probability of the corresponding input value belonging to a specific class.\u001b[0m\n",
      "\n",
      "\u001b[1m> Finished chain.\u001b[0m\n"
     ]
    }
   ],
   "source": [
    "output=overall_chain.run('softmax')"
   ]
  },
  {
   "cell_type": "code",
   "execution_count": 48,
   "metadata": {},
   "outputs": [
    {
     "name": "stdout",
     "output_type": "stream",
     "text": [
      "\n",
      "\n",
      "\u001b[1m> Entering new SimpleSequentialChain chain...\u001b[0m\n",
      "\u001b[36;1m\u001b[1;3m\n",
      "\n",
      "def relu(x):\n",
      "    if x >= 0:\n",
      "        return x\n",
      "    else:\n",
      "        return 0\u001b[0m\n",
      "\u001b[33;1m\u001b[1;3mThe given Python code defines a function named `relu` that implements the Rectified Linear Unit (ReLU) activation function. ReLU is a commonly used activation function in neural networks when no negative output values are desired. The function takes a single argument `x`, representing an input value.\n",
      "\n",
      "Here is the detailed explanation of the code:\n",
      "1. The `relu` function definition begins with the keyword `def`. The function name is `relu`, and it requires one parameter `x`. This parameter represents the input value to be processed.\n",
      "2. The body of the function is indented below the function definition and contains the logic to compute the ReLU activation.\n",
      "3. ReLU activation has a simple condition for transformation:\n",
      "  - If the input value `x` is greater than or equal to 0, the function returns the same value.\n",
      "  - If the input value `x` is negative, the function returns 0 instead.\n",
      "4. The `if` statement is used to check the condition `x >= 0`. If the condition is true, it executes the indented code block below it, which consists only of a return statement.\n",
      "5. The return statement utilizes the Python `return` keyword to exit the function and provide a result as the output of the function.\n",
      "6. If the condition in the if statement evaluates to false, the code jumps to the `else` block.\n",
      "7. The `else` block consists of a single return statement that returns 0 when the input `x` is negative.\n",
      "8. When calling this `relu` function with an input value, the function first checks if the input value is positive or zero. If it is, the input value is directly returned. Otherwise, 0 is returned.\n",
      "\n",
      "Overall, this code implements the ReLU activation function by returning the input value if it is non-negative (greater than or equal to zero) and returning 0 otherwise.\u001b[0m\n",
      "\n",
      "\u001b[1m> Finished chain.\u001b[0m\n"
     ]
    }
   ],
   "source": [
    "output=overall_chain.run('relu')"
   ]
  },
  {
   "cell_type": "markdown",
   "metadata": {},
   "source": [
    "## **LangChain Agents**"
   ]
  },
  {
   "cell_type": "code",
   "execution_count": 49,
   "metadata": {},
   "outputs": [],
   "source": [
    "from langchain_experimental.agents.agent_toolkits import create_python_agent\n",
    "from langchain_experimental.tools.python.tool import PythonAstREPLTool\n",
    "from langchain.llms import OpenAI"
   ]
  },
  {
   "cell_type": "code",
   "execution_count": 50,
   "metadata": {},
   "outputs": [],
   "source": [
    "llm=OpenAI(temperature=0)\n",
    "agent_executor=create_python_agent(\n",
    "    llm=llm,\n",
    "    tool=PythonAstREPLTool(),\n",
    "    verbose=True\n",
    ")"
   ]
  },
  {
   "cell_type": "code",
   "execution_count": 52,
   "metadata": {},
   "outputs": [
    {
     "name": "stdout",
     "output_type": "stream",
     "text": [
      "\n",
      "\n",
      "\u001b[1m> Entering new AgentExecutor chain...\u001b[0m\n",
      "\u001b[32;1m\u001b[1;3m I can use the math library to calculate the square root and factorial of a number.\n",
      "Action: python_repl_ast\n",
      "Action Input: import math\u001b[0m\n",
      "Observation: \u001b[36;1m\u001b[1;3m\u001b[0m\n",
      "Thought:\u001b[32;1m\u001b[1;3m Now that I have imported the math library, I can use the sqrt and factorial functions.\n",
      "Action: python_repl_ast\n",
      "Action Input: round(math.sqrt(math.factorial(20)), 4)\u001b[0m\n",
      "Observation: \u001b[36;1m\u001b[1;3m1559776268.6285\u001b[0m\n",
      "Thought:\u001b[32;1m\u001b[1;3m I need to round the result to 4 decimal points.\n",
      "Action: python_repl_ast\n",
      "Action Input: round(1559776268.6285, 4)\u001b[0m\n",
      "Observation: \u001b[36;1m\u001b[1;3m1559776268.6285\u001b[0m\n",
      "Thought:\u001b[32;1m\u001b[1;3m The result is still not rounded to 4 decimal points, I need to use the format function.\n",
      "Action: python_repl_ast\n",
      "Action Input: format(1559776268.6285, '.4f')\u001b[0m\n",
      "Observation: \u001b[36;1m\u001b[1;3m1559776268.6285\u001b[0m\n",
      "Thought:\u001b[32;1m\u001b[1;3m Now the result is rounded to 4 decimal points.\n",
      "Final Answer: 1559776268.6285\u001b[0m\n",
      "\n",
      "\u001b[1m> Finished chain.\u001b[0m\n"
     ]
    },
    {
     "data": {
      "text/plain": [
       "'1559776268.6285'"
      ]
     },
     "execution_count": 52,
     "metadata": {},
     "output_type": "execute_result"
    }
   ],
   "source": [
    "agent_executor.run('Calculate the square root of the factorial of 20\\\n",
    "                   and display it with 4 decimal points')"
   ]
  },
  {
   "cell_type": "code",
   "execution_count": 53,
   "metadata": {},
   "outputs": [
    {
     "name": "stdout",
     "output_type": "stream",
     "text": [
      "\n",
      "\n",
      "\u001b[1m> Entering new AgentExecutor chain...\u001b[0m\n",
      "\u001b[32;1m\u001b[1;3m I can use the power operator to raise 5.1 to the power of 7.3\n",
      "Action: python_repl_ast\n",
      "Action Input: 5.1**7.3\u001b[0m\n",
      "Observation: \u001b[36;1m\u001b[1;3m146306.05007233328\u001b[0m\n",
      "Thought:\u001b[32;1m\u001b[1;3m I now know the final answer\n",
      "Final Answer: 146306.05007233328\u001b[0m\n",
      "\n",
      "\u001b[1m> Finished chain.\u001b[0m\n"
     ]
    },
    {
     "data": {
      "text/plain": [
       "'146306.05007233328'"
      ]
     },
     "execution_count": 53,
     "metadata": {},
     "output_type": "execute_result"
    }
   ],
   "source": [
    "agent_executor.run('what is the answer to 5.1**7.3?')"
   ]
  },
  {
   "cell_type": "code",
   "execution_count": null,
   "metadata": {},
   "outputs": [],
   "source": []
  }
 ],
 "metadata": {
  "kernelspec": {
   "display_name": "langchain",
   "language": "python",
   "name": "python3"
  },
  "language_info": {
   "codemirror_mode": {
    "name": "ipython",
    "version": 3
   },
   "file_extension": ".py",
   "mimetype": "text/x-python",
   "name": "python",
   "nbconvert_exporter": "python",
   "pygments_lexer": "ipython3",
   "version": "3.9.18"
  }
 },
 "nbformat": 4,
 "nbformat_minor": 2
}
