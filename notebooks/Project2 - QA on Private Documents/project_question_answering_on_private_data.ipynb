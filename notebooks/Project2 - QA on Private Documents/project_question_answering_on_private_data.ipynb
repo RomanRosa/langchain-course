{
 "cells": [
  {
   "cell_type": "markdown",
   "metadata": {},
   "source": [
    "# **Question-Answering on Private Documents**"
   ]
  },
  {
   "cell_type": "code",
   "execution_count": 12,
   "metadata": {},
   "outputs": [
    {
     "data": {
      "text/plain": [
       "True"
      ]
     },
     "execution_count": 12,
     "metadata": {},
     "output_type": "execute_result"
    }
   ],
   "source": [
    "import os\n",
    "from dotenv import load_dotenv, find_dotenv\n",
    "load_dotenv(find_dotenv(), override=True)"
   ]
  },
  {
   "cell_type": "code",
   "execution_count": 13,
   "metadata": {},
   "outputs": [],
   "source": [
    "def load_document(file):\n",
    "    from langchain.document_loaders import PyPDFLoader\n",
    "    print(f'Loading...!')\n",
    "    loader=PyPDFLoader(file)\n",
    "    data=loader.load()\n",
    "    return data"
   ]
  },
  {
   "cell_type": "markdown",
   "metadata": {},
   "source": [
    "## **Running Code**"
   ]
  },
  {
   "cell_type": "code",
   "execution_count": 16,
   "metadata": {},
   "outputs": [
    {
     "name": "stdout",
     "output_type": "stream",
     "text": [
      "Loading...!\n"
     ]
    }
   ],
   "source": [
    "#us_const = os.getenv('US_CONSTITUTION')\n",
    "us_cost = os.getenv('US_CONSTITUTION')\n",
    "data= load_document(us_cost)"
   ]
  },
  {
   "cell_type": "code",
   "execution_count": 17,
   "metadata": {},
   "outputs": [
    {
     "name": "stdout",
     "output_type": "stream",
     "text": [
      "The\n",
      "House\n",
      "of\n",
      "Representatives\n",
      "shall\n",
      "be\n",
      "composed\n",
      "of\n",
      "Members\n",
      "chosen\n",
      "every\n",
      "second\n",
      "Y ear\n",
      "by\n",
      "the\n",
      "People\n",
      "of\n",
      "the\n",
      "several\n",
      "States,\n",
      "and\n",
      "the\n",
      "Electors\n",
      "in\n",
      "each\n",
      "State\n",
      "shall\n",
      "have\n",
      "the\n",
      "Qualifications\n",
      "requisite\n",
      "for\n",
      "Electors\n",
      "of\n",
      "the\n",
      "most\n",
      "numerous\n",
      "Branch\n",
      "of\n",
      "the\n",
      "State\n",
      "Legislature.\n",
      "No\n",
      "Person\n",
      "shall\n",
      "be\n",
      "a\n",
      "Representative\n",
      "who\n",
      "shall\n",
      "not\n",
      "have\n",
      "attained\n",
      "to\n",
      "the\n",
      "Age\n",
      "of\n",
      "twenty\n",
      "five\n",
      "Y ears,\n",
      "and\n",
      "been\n",
      "seven\n",
      "Y ears\n",
      "a\n",
      "Citizen\n",
      "of\n",
      "the\n",
      "United\n",
      "States,\n",
      "and\n",
      "who\n",
      "shall\n",
      "not,\n",
      "when\n",
      "elected,\n",
      "be\n",
      "an\n",
      "Inhabitant\n",
      "of\n",
      "that\n",
      "State\n",
      "in\n",
      "which\n",
      "he\n",
      "shall\n",
      "be\n",
      "chosen.\n",
      "Representatives\n",
      "and\n",
      "direct\n",
      "T axes\n",
      "shall\n",
      "be\n",
      "apportioned\n",
      "among\n",
      "the\n",
      "several\n",
      "States\n",
      "which\n",
      "may\n",
      "be\n",
      "included\n",
      "within\n",
      "this\n",
      "Union,\n",
      "according\n",
      "to\n",
      "their\n",
      "respective\n",
      "Numbers,\n",
      "which\n",
      "shall\n",
      "be\n",
      "determined\n",
      "by\n",
      "adding\n",
      "to\n",
      "the\n",
      "whole\n",
      "Number\n",
      "of\n",
      "free\n",
      "Persons,\n",
      "including\n",
      "those\n",
      "bound\n",
      "to\n",
      "Service\n",
      "for\n",
      "a\n",
      "T erm\n",
      "of\n",
      "Y ears,\n",
      "and\n",
      "excluding\n",
      "Indians\n",
      "not\n",
      "taxed,\n",
      "three\n",
      "fifths\n",
      "of\n",
      "all\n",
      "other\n",
      "Persons.\n",
      "The\n",
      "actual\n",
      "Enumeration\n",
      "shall\n",
      "be\n",
      "made\n",
      "within\n",
      "three\n",
      "Y ears\n",
      "after\n",
      "the\n",
      "first\n",
      "Meeting\n",
      "of\n",
      "the\n",
      "Congress\n",
      "of\n",
      "the\n",
      "United\n",
      "States,\n",
      "and\n",
      "within\n",
      "every\n",
      "subsequent\n",
      "T erm\n",
      "of\n",
      "ten\n",
      "Y ears,\n",
      "in\n",
      "such\n",
      "Manner\n",
      "as\n",
      "they\n",
      "shall\n",
      "by\n",
      "Law\n",
      "direct.The\n",
      "number\n",
      "of\n",
      "Representatives\n",
      "shall\n",
      "not\n",
      "exceed\n",
      "one\n",
      "for\n",
      "every\n",
      "thirty\n",
      "Thousand,\n",
      "but\n",
      "each\n",
      "State\n",
      "shall\n",
      "have\n",
      "at\n",
      "Least\n",
      "one\n",
      "Representative;\n",
      "and\n",
      "until\n",
      "such\n",
      "enumeration\n",
      "shall\n",
      "be\n",
      "made,\n",
      "the\n",
      "State\n",
      "of\n",
      "New\n",
      "Hampshire\n",
      "shall\n",
      "be\n",
      "entitled\n",
      "to\n",
      "chuse\n",
      "three,\n",
      "Massachusetts\n",
      "eight,\n",
      "Rhode-Island\n",
      "and\n",
      "Providence\n",
      "Plantations\n",
      "one,\n",
      "Connecticut\n",
      "five,\n",
      "New-Y ork\n",
      "six,\n",
      "New\n",
      "Jersey\n",
      "four ,\n",
      "Pennsylvania\n",
      "eight,\n",
      "Delaware\n",
      "one,\n"
     ]
    }
   ],
   "source": [
    "print(data[1].page_content)"
   ]
  },
  {
   "cell_type": "code",
   "execution_count": 18,
   "metadata": {},
   "outputs": [
    {
     "name": "stdout",
     "output_type": "stream",
     "text": [
      "{'source': 'C:\\\\github_repos\\\\langchain\\\\data\\\\us_constitution.pdf', 'page': 10}\n"
     ]
    }
   ],
   "source": [
    "# Print MetaData\n",
    "print(data[10].metadata)"
   ]
  },
  {
   "cell_type": "code",
   "execution_count": 19,
   "metadata": {},
   "outputs": [
    {
     "name": "stdout",
     "output_type": "stream",
     "text": [
      "You have 41 pages in your data\n"
     ]
    }
   ],
   "source": [
    "print(f'You have {len(data)} pages in your data')"
   ]
  },
  {
   "cell_type": "code",
   "execution_count": 20,
   "metadata": {},
   "outputs": [
    {
     "name": "stdout",
     "output_type": "stream",
     "text": [
      "You have 1137 characters in your data\n"
     ]
    }
   ],
   "source": [
    "print(f'You have {len(data[20].page_content)} characters in your data')"
   ]
  },
  {
   "cell_type": "code",
   "execution_count": null,
   "metadata": {},
   "outputs": [],
   "source": []
  }
 ],
 "metadata": {
  "kernelspec": {
   "display_name": "langchain",
   "language": "python",
   "name": "python3"
  },
  "language_info": {
   "codemirror_mode": {
    "name": "ipython",
    "version": 3
   },
   "file_extension": ".py",
   "mimetype": "text/x-python",
   "name": "python",
   "nbconvert_exporter": "python",
   "pygments_lexer": "ipython3",
   "version": "3.9.18"
  }
 },
 "nbformat": 4,
 "nbformat_minor": 2
}
